{
 "cells": [
  {
   "cell_type": "markdown",
   "id": "bb01d230",
   "metadata": {},
   "source": [
    "## FFA mask generation"
   ]
  },
  {
   "cell_type": "code",
   "execution_count": null,
   "id": "52220cac",
   "metadata": {},
   "outputs": [],
   "source": [
    "from nilearn import image, masking\n",
    "import numpy as np\n",
    "\n",
    "# Load subject's localizer contrast map\n",
    "localizer_img = image.load_img('subject01_faces_vs_objects.nii.gz')\n",
    "\n",
    "# Load fusiform anatomical mask (binary mask where fusiform gyrus = 1)\n",
    "fusiform_mask = image.load_img('fusiform_mask.nii.gz')\n",
    "\n",
    "# Apply the anatomical mask to the functional map\n",
    "localizer_in_fusiform = masking.apply_mask(localizer_img, fusiform_mask)\n",
    "\n",
    "# Find top N% voxels or top N voxels\n",
    "threshold_percentile = 95\n",
    "threshold_value = np.percentile(localizer_in_fusiform, threshold_percentile)\n",
    "\n",
    "# Make a binary mask of voxels above threshold\n",
    "ffa_mask_data = (localizer_in_fusiform > threshold_value).astype(int)\n",
    "\n",
    "# Inverse mask to create Nifti\n",
    "ffa_mask_img = masking.unmask(ffa_mask_data, fusiform_mask)\n",
    "\n",
    "ffa_mask_img.to_filename('subject01_ffa_mask.nii.gz')\n"
   ]
  }
 ],
 "metadata": {
  "kernelspec": {
   "display_name": "my_python_env",
   "language": "python",
   "name": "python3"
  },
  "language_info": {
   "codemirror_mode": {
    "name": "ipython",
    "version": 3
   },
   "file_extension": ".py",
   "mimetype": "text/x-python",
   "name": "python",
   "nbconvert_exporter": "python",
   "pygments_lexer": "ipython3",
   "version": "3.12.8"
  }
 },
 "nbformat": 4,
 "nbformat_minor": 5
}
