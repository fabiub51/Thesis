{
 "cells": [
  {
   "cell_type": "markdown",
   "id": "077a9126-829d-49e8-bb91-b1df3254bdd9",
   "metadata": {},
   "source": [
    "# GLMSingle Analysis Script"
   ]
  },
  {
   "cell_type": "markdown",
   "id": "63d0e190-90c7-48ac-8016-c60c9547a7fc",
   "metadata": {},
   "source": [
    "## Import all necessary libraries and setup directories"
   ]
  },
  {
   "cell_type": "code",
   "execution_count": 1,
   "id": "d7e02d06-b220-4728-84c3-15cbb85bc7c6",
   "metadata": {},
   "outputs": [],
   "source": [
    "import sys\n",
    "sys.path.append('/Users/danieljanini/GLMsingle/python')\n",
    "sys.path.append('/Users/danieljanini/fracridge/fracridge')"
   ]
  },
  {
   "cell_type": "code",
   "execution_count": 47,
   "id": "25624193-b447-4837-a46c-97a86324fbdc",
   "metadata": {},
   "outputs": [],
   "source": [
    "import numpy as np\n",
    "import scipy\n",
    "import scipy.io as sio\n",
    "import matplotlib.pyplot as plt\n",
    "import glob\n",
    "import os\n",
    "from os.path import join, exists, split\n",
    "import time\n",
    "import urllib.request\n",
    "import warnings\n",
    "from tqdm import tqdm\n",
    "from pprint import pprint\n",
    "warnings.filterwarnings('ignore')\n",
    "import matplotlib\n",
    "%matplotlib inline\n",
    "\n",
    "from glmsingle.glmsingle import GLM_single"
   ]
  },
  {
   "cell_type": "code",
   "execution_count": 115,
   "id": "c8fa633d-3b2a-440b-bda9-ea41e30daa5f",
   "metadata": {},
   "outputs": [],
   "source": [
    "homedir = split(os.getcwd())[0]\n",
    "datadir = join(homedir,'miniblock','derivatives')\n",
    "presdir = join(homedir, 'Behavior', 'designmats')"
   ]
  },
  {
   "cell_type": "markdown",
   "id": "822792fc-aa9f-4420-adc3-c576693ab9b3",
   "metadata": {},
   "source": [
    "## Starting the loop "
   ]
  },
  {
   "cell_type": "code",
   "execution_count": 69,
   "id": "c2fa0890-0a27-4a30-90fa-cc64a74ef4d9",
   "metadata": {},
   "outputs": [],
   "source": [
    "runtypes = ['er', 'miniblock', 'sus']\n",
    "sm_fwhm = 2 # voxels \n",
    "tr_new = 0.5 # after resampling\n",
    "subjects = [\"01\"] # subjects 9 and 16 excluded due to motion\n",
    "max_runs = 12"
   ]
  },
  {
   "cell_type": "code",
   "execution_count": 43,
   "id": "ac1cf852-8dbe-425b-b6e8-c1649d555908",
   "metadata": {},
   "outputs": [
    {
     "name": "stdout",
     "output_type": "stream",
     "text": [
      "er\n",
      "er\n",
      "miniblock\n",
      "miniblock\n",
      "sus\n",
      "sus\n"
     ]
    }
   ],
   "source": [
    "for sub in subjects: \n",
    "    partString = f'P0{sub}'\n",
    "    subString = f'sub-{sub}'\n",
    "\n",
    "    for runTypeIdx in runtypes:\n",
    "        for smooting in range(2):\n",
    "\n",
    "            # Specify stimulus duration \n",
    "            if runTypeIdx == 'er':\n",
    "                stimdur = 1\n",
    "            else: \n",
    "                stimdur = 4\n",
    "\n",
    "            # get files for design matrices and fmri data\n",
    "            pattern = presdir + f'/P0{sub}_ConditionRich_Run*_{runTypeIdx}.csv')\n",
    "            matches = glob.glob(pattern)\n",
    "            matches.sort()\n",
    "            for match in matches:\n",
    "                designMat = np.genfromtxt(match)\n",
    "                num = re.search(r'Run_(\\d+)', matches[2])\n",
    "                # reminder: the runNum of the designmats is not the same as for the functional data as localizer runs were interspersed \n",
    "                runNum = int(num.group(1))\n",
    "                if runNum >3: \n",
    "                    runNum + 1 # localizer run after 3rd functional run\n",
    "                elif runNum > 7:\n",
    "                    runNum + 2 # localizer run after 6th functional run (7th overall)\n",
    "\n",
    "                # get the nii.gz file \n",
    "                if runNum < 10: \n",
    "                    file_path = join(datadir, subString, 'func', subString + f'_task-func_run-0{runNum}_space-MNI152NLin2009cAsym_desc-preproc_bold.nii.gz')\n",
    "                else: \n",
    "                    file_path = join(datadir, subString, 'func', subString + f'_task-func_run-{runNum}_space-MNI152NLin2009cAsym_desc-preproc_bold.nii.gz')"
   ]
  },
  {
   "cell_type": "code",
   "execution_count": 123,
   "id": "bd387ca5-c771-4fd6-8c44-c18a288154f9",
   "metadata": {},
   "outputs": [],
   "source": [
    "pattern = presdir + f'/P0{sub}_ConditionRich_Run*_{runTypeIdx}.csv'\n",
    "matches = glob.glob(pattern)"
   ]
  },
  {
   "cell_type": "code",
   "execution_count": 125,
   "id": "9484436f-4cdc-4345-9b9b-56b4266f58c7",
   "metadata": {},
   "outputs": [
    {
     "data": {
      "text/plain": [
       "'/Users/danieljanini/Documents/Thesis/Behavior/designmats/P001_ConditionRich_Run*_sus.csv'"
      ]
     },
     "execution_count": 125,
     "metadata": {},
     "output_type": "execute_result"
    }
   ],
   "source": [
    "pattern"
   ]
  },
  {
   "cell_type": "code",
   "execution_count": 129,
   "id": "dcfda997-e16b-44dc-abb7-8cd93861ee20",
   "metadata": {},
   "outputs": [],
   "source": [
    "matches.sort()"
   ]
  },
  {
   "cell_type": "code",
   "execution_count": 131,
   "id": "733429d1-9e2b-44f6-95a6-5526e2a9ef10",
   "metadata": {},
   "outputs": [
    {
     "data": {
      "text/plain": [
       "['/Users/danieljanini/Documents/Thesis/Behavior/designmats/P001_ConditionRich_Run_03_sus.csv',\n",
       " '/Users/danieljanini/Documents/Thesis/Behavior/designmats/P001_ConditionRich_Run_06_sus.csv',\n",
       " '/Users/danieljanini/Documents/Thesis/Behavior/designmats/P001_ConditionRich_Run_09_sus.csv']"
      ]
     },
     "execution_count": 131,
     "metadata": {},
     "output_type": "execute_result"
    }
   ],
   "source": [
    "matches"
   ]
  },
  {
   "cell_type": "code",
   "execution_count": 149,
   "id": "ff2ada32-5dcd-4e61-853c-d07d5de7ada3",
   "metadata": {},
   "outputs": [],
   "source": [
    "import re\n",
    "match = re.search(r'Run_(\\d+)', matches[0])\n",
    "run_number = int(match.group(1))"
   ]
  },
  {
   "cell_type": "code",
   "execution_count": 157,
   "id": "6a1d59b9-b22c-432b-8ef2-11d3d98f1b1a",
   "metadata": {},
   "outputs": [],
   "source": [
    "runNum = run_number"
   ]
  },
  {
   "cell_type": "code",
   "execution_count": 165,
   "id": "d22fdd5f-ec2b-4b13-87dc-2902c8520074",
   "metadata": {},
   "outputs": [],
   "source": [
    "file_path = join(datadir, subString, 'func', subString + f'_task-func_run-0{runNum}_space-MNI152NLin2009cAsym_desc-preproc_bold.nii.gz')"
   ]
  },
  {
   "cell_type": "code",
   "execution_count": 167,
   "id": "1f59b335-78db-47f3-a413-d2f1a93e45ae",
   "metadata": {},
   "outputs": [
    {
     "data": {
      "text/plain": [
       "'/Users/danieljanini/Documents/Thesis/miniblock/derivatives/sub-001/func/sub-001_task-ConditionRich_run-03_space-MNI152NLin2009cAsym_desc-preproc_bold.nii.gz'"
      ]
     },
     "execution_count": 167,
     "metadata": {},
     "output_type": "execute_result"
    }
   ],
   "source": [
    "file_path"
   ]
  },
  {
   "cell_type": "code",
   "execution_count": null,
   "id": "31bd87d7-1540-4e66-ad27-8e3ea4359f2c",
   "metadata": {},
   "outputs": [],
   "source": []
  }
 ],
 "metadata": {
  "kernelspec": {
   "display_name": "Python [conda env:my_python_env]",
   "language": "python",
   "name": "conda-env-my_python_env-py"
  },
  "language_info": {
   "codemirror_mode": {
    "name": "ipython",
    "version": 3
   },
   "file_extension": ".py",
   "mimetype": "text/x-python",
   "name": "python",
   "nbconvert_exporter": "python",
   "pygments_lexer": "ipython3",
   "version": "3.12.8"
  }
 },
 "nbformat": 4,
 "nbformat_minor": 5
}
