{
 "cells": [
  {
   "cell_type": "code",
   "execution_count": 1,
   "id": "db286cf7-eec8-4757-b856-701913574973",
   "metadata": {},
   "outputs": [],
   "source": [
    "import numpy as np\n",
    "import os\n",
    "from os.path import join, exists, split\n",
    "import glob\n",
    "import pandas as pd"
   ]
  },
  {
   "cell_type": "code",
   "execution_count": 2,
   "id": "56285722-b44b-452a-ac9f-c7128d6bb5c3",
   "metadata": {},
   "outputs": [],
   "source": [
    "homedir = split(os.getcwd())[0]\n",
    "datadir = join(homedir,'miniblock','derivatives')\n",
    "presdir = join(homedir, 'Behavior', 'CondRichData')\n",
    "outdir  = join(homedir, 'Behavior', 'designmats')"
   ]
  },
  {
   "cell_type": "code",
   "execution_count": 3,
   "id": "b4782be4-d058-495e-ae1e-59e54e5cb9da",
   "metadata": {},
   "outputs": [],
   "source": [
    "subjects = [\"19\"]\n",
    "max_runs = 9"
   ]
  },
  {
   "cell_type": "code",
   "execution_count": 4,
   "id": "d32a1337-6309-4a07-b63a-f749d9b7440c",
   "metadata": {},
   "outputs": [],
   "source": [
    "for sub in subjects: \n",
    "    for run in range(1,max_runs+1):\n",
    "        pattern = presdir + f'/P0{sub}_ConditionRich_Run{run}*.csv'\n",
    "        matches = glob.glob(pattern)\n",
    "        match = matches[0]\n",
    "        df = pd.read_csv(match)\n",
    "        df = df.drop([0, 1]).reset_index(drop=True)\n",
    "        # Check condition\n",
    "        if df[\"imFile\"][5] == df [\"imFile\"][7]:\n",
    "            runtype = \"miniblock\"\n",
    "            duration = 4\n",
    "        elif (df[\"eventEndTime\"][3] - df[\"eventStartTime\"][3]) == 3.75 :\n",
    "            runtype = \"sus\"\n",
    "            duration = 4\n",
    "        else: \n",
    "            runtype = \"er\"\n",
    "            duration = 1\n",
    "        file_names = df[\"imFile\"].unique()\n",
    "        file_names = file_names[file_names != 'Stimuli/Blank.png']\n",
    "        file_names.sort()\n",
    "        # print(file_names)\n",
    "        empty_array = np.zeros((388,40))\n",
    "\n",
    "        df['two_before'] = df['imFile'].shift(2)\n",
    "\n",
    "        for name in range(empty_array.shape[1]):\n",
    "            for row in range(len(df[\"imFile\"])):\n",
    "                if (file_names[name] == df[\"imFile\"][row]) & (df[\"imFile\"][row] != df[\"two_before\"][row]): \n",
    "                    empty_array[int(df[\"eventStartTime\"][row]), name] = 1\n",
    "\n",
    "        path = outdir + f'/P0{sub}_ConditionRich_Run_0{run}_{runtype}.csv'\n",
    "        np.savetxt(path, empty_array, delimiter=\",\", fmt=\"%d\")"
   ]
  },
  {
   "cell_type": "markdown",
   "id": "d67a05b2",
   "metadata": {},
   "source": [
    "## The same for localizer data"
   ]
  },
  {
   "cell_type": "code",
   "execution_count": 5,
   "id": "cffa1eb2",
   "metadata": {},
   "outputs": [],
   "source": [
    "homedir = split(os.getcwd())[0]\n",
    "datadir = join(homedir,'miniblock','derivatives')\n",
    "presdir = join(homedir, 'Behavior', 'LocData')\n",
    "outdir  = join(homedir, 'Behavior', 'designmats', 'localizer')"
   ]
  },
  {
   "cell_type": "code",
   "execution_count": 6,
   "id": "a39b0054",
   "metadata": {},
   "outputs": [],
   "source": [
    "subjects = [\"19\"]\n",
    "max_runs = 3"
   ]
  },
  {
   "cell_type": "code",
   "execution_count": 7,
   "id": "7a229997",
   "metadata": {},
   "outputs": [],
   "source": [
    "for sub in subjects: \n",
    "    for run in range(1,max_runs+1):\n",
    "        pattern = presdir + f'/P0{sub}_CategoryLocalizer_Run{run}*.csv'\n",
    "        matches = glob.glob(pattern)\n",
    "        if matches == []:\n",
    "            print(f\"Run {run} not found for subject {sub}. Skipping.\")\n",
    "            continue\n",
    "        match = matches[0]\n",
    "        df = pd.read_csv(match)\n",
    "        df = df.drop([0, 1]).reset_index(drop=True)\n",
    "        file_names = df[\"imFile\"].unique()\n",
    "        file_names = file_names[file_names != 'Stimuli\\\\Blank.png']\n",
    "        file_names.sort()\n",
    "        # print(file_names)\n",
    "        empty_array = np.zeros((int(max(df[\"eventEndTime\"])),232))\n",
    "\n",
    "        df['two_before'] = df['imFile'].shift(2)\n",
    "\n",
    "        for name in range(empty_array.shape[1]):\n",
    "            for row in range(len(df[\"imFile\"])):\n",
    "                if (file_names[name] == df[\"imFile\"][row]): \n",
    "                    empty_array[int(df[\"eventStartTime\"][row]), name] = 1\n",
    "\n",
    "        path = outdir + f'/P0{sub}_CategoryLocalizer_Run_0{run}.csv'\n",
    "        np.savetxt(path, empty_array, delimiter=\",\", fmt=\"%d\")"
   ]
  },
  {
   "cell_type": "code",
   "execution_count": 37,
   "id": "9815fd3a",
   "metadata": {},
   "outputs": [
    {
     "data": {
      "text/plain": [
       "(232,)"
      ]
     },
     "execution_count": 37,
     "metadata": {},
     "output_type": "execute_result"
    }
   ],
   "source": [
    "file_names.shape"
   ]
  },
  {
   "cell_type": "code",
   "execution_count": null,
   "id": "2ae75a27",
   "metadata": {},
   "outputs": [],
   "source": []
  }
 ],
 "metadata": {
  "kernelspec": {
   "display_name": "my_python_env",
   "language": "python",
   "name": "python3"
  },
  "language_info": {
   "codemirror_mode": {
    "name": "ipython",
    "version": 3
   },
   "file_extension": ".py",
   "mimetype": "text/x-python",
   "name": "python",
   "nbconvert_exporter": "python",
   "pygments_lexer": "ipython3",
   "version": "3.12.8"
  }
 },
 "nbformat": 4,
 "nbformat_minor": 5
}
